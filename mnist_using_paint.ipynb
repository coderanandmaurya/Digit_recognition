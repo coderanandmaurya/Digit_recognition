{
  "nbformat": 4,
  "nbformat_minor": 0,
  "metadata": {
    "colab": {
      "provenance": [],
      "authorship_tag": "ABX9TyNHqTA2HJCldSQcimzaXlST",
      "include_colab_link": true
    },
    "kernelspec": {
      "name": "python3",
      "display_name": "Python 3"
    },
    "language_info": {
      "name": "python"
    }
  },
  "cells": [
    {
      "cell_type": "markdown",
      "metadata": {
        "id": "view-in-github",
        "colab_type": "text"
      },
      "source": [
        "<a href=\"https://colab.research.google.com/github/coderanandmaurya/Digit_recognition/blob/main/mnist_using_paint.ipynb\" target=\"_parent\"><img src=\"https://colab.research.google.com/assets/colab-badge.svg\" alt=\"Open In Colab\"/></a>"
      ]
    },
    {
      "cell_type": "code",
      "execution_count": null,
      "metadata": {
        "id": "s3NttRFi96LN"
      },
      "outputs": [],
      "source": [
        "import streamlit as st\n",
        "import tensorflow as tf\n",
        "import numpy as np\n",
        "import cv2\n",
        "from PIL import Image, ImageOps\n",
        "\n",
        "# Load the pre-trained model (assuming the model is saved as 'mnist_model.h5')\n",
        "# If you haven't saved the model, save it using model.save('mnist_model.h5') after training.\n",
        "model = tf.keras.models.load_model('mnist_model.h5')\n",
        "\n",
        "# Streamlit app title\n",
        "st.title('Handwritten Digit Recognition')\n",
        "\n",
        "# Streamlit app description\n",
        "st.write(\"Draw a digit (0-9) on the canvas below, and the model will predict it.\")\n",
        "\n",
        "# Create a canvas to draw the digit\n",
        "canvas_size = 200\n",
        "canvas = np.zeros((canvas_size, canvas_size), dtype=np.uint8)\n",
        "\n",
        "# Streamlit input for drawing on canvas\n",
        "canvas_image = st.image(canvas, caption='Draw here', use_column_width=True)\n",
        "draw = st.checkbox('Enable Drawing')\n",
        "\n",
        "if draw:\n",
        "    x, y = st.sidebar.slider('X:', 0, canvas_size-1, 10), st.sidebar.slider('Y:', 0, canvas_size-1, 10)\n",
        "    canvas[y:y+10, x:x+10] = 255\n",
        "    canvas_image.image(canvas, caption='Draw here', use_column_width=True)\n",
        "\n",
        "# Predict button\n",
        "if st.button('Predict'):\n",
        "    # Preprocess the drawn image\n",
        "    resized_image = cv2.resize(canvas, (28, 28))  # Resize to 28x28\n",
        "    inverted_image = cv2.bitwise_not(resized_image)  # Invert colors\n",
        "    normalized_image = inverted_image / 255.0  # Normalize pixel values\n",
        "    input_image = normalized_image.reshape(1, 28, 28, 1)  # Reshape for the model\n",
        "\n",
        "    # Model prediction\n",
        "    prediction = model.predict(input_image)\n",
        "    predicted_digit = np.argmax(prediction)\n",
        "\n",
        "    # Display the predicted digit\n",
        "    st.write(f'Predicted Digit: {predicted_digit}')\n",
        "    st.bar_chart(prediction[0])\n"
      ]
    }
  ]
}